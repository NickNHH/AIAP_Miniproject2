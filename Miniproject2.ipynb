{
 "cells": [
  {
   "cell_type": "code",
   "outputs": [],
   "source": [
    "import tensorflow as tf\n",
    "import numpy as np\n",
    "import sklearn\n",
    "import os\n",
    "\n",
    "from tensorflow.keras import datasets, layers, models\n",
    "from tensorflow.keras.preprocessing.image import ImageDataGenerator\n",
    "import matplotlib.pyplot as plt\n",
    "import matplotlib.image as mpimg"
   ],
   "metadata": {
    "collapsed": false
   },
   "id": "6bf26a94116f91c2"
  },
  {
   "cell_type": "code",
   "outputs": [],
   "source": [
    "# Pfad zum Ordner mit den Bildern\n",
    "data_dir = 'files/dataset'\n",
    "\n",
    "all_images = []\n",
    "all_labels = []\n",
    "\n",
    "# Durchlaufen Sie alle Ordner und Unterverzeichnisse in 'dataset'\n",
    "for label_folder in os.listdir(data_dir):\n",
    "    label_folder_path = os.path.join(data_dir, label_folder)\n",
    "\n",
    "    # Stellen Sie sicher, dass es sich um ein Verzeichnis handelt\n",
    "    if os.path.isdir(label_folder_path):\n",
    "        for image_file in os.listdir(label_folder_path):\n",
    "            image_file_path = os.path.join(label_folder_path, image_file)\n",
    "\n",
    "            # Überprüfen, ob es sich tatsächlich um eine Datei handelt (und z.B. nicht um ein Unterverzeichnis)\n",
    "            if os.path.isfile(image_file_path):\n",
    "                all_images.append(image_file_path)\n",
    "                all_labels.append(label_folder)\n",
    "\n",
    "train_val_imgs, test_images, train_val_labels, test_labels = sklearn.model_selection.train_test_split(all_images, all_labels, test_size=0.3)\n",
    "training_data_img, validation_data_img, training_data_labels, validation_data_labels = sklearn.model_selection.train_test_split(train_val_imgs, train_val_labels, test_size=0.2)\n",
    "\n",
    "print(len(train_val_imgs), len(test_images))\n",
    "print(len(training_data_img), len(validation_data_img))"
   ],
   "metadata": {
    "collapsed": false
   },
   "id": "e369aa873bb76aee"
  },
  {
   "cell_type": "code",
   "outputs": [],
   "source": [
    "class_names = ['altar', 'apse', 'bell_tower', 'column', 'dome(inner)',\n",
    "               'dome(outer)', 'flying_buttress', 'gargoyle', 'stained_glass', 'vault']\n",
    "\n",
    "plt.figure(figsize=(10,10))\n",
    "\n",
    "# Nur einen Batch von Bildern und Labels holen\n",
    "images, labels = training_data_img, training_data_labels\n",
    "\n",
    "for i in range(25):  # Angenommen, der Batch hat mindestens 25 Bilder\n",
    "    plt.subplot(5, 5, i+1)\n",
    "    plt.xticks([])\n",
    "    plt.yticks([])\n",
    "    plt.grid(False)\n",
    "    plt.imshow(mpimg.imread(images[i]))\n",
    "\n",
    "    # Anpassung für die Behandlung von String-Labels\n",
    "    if isinstance(labels[i], str):\n",
    "        # Konvertiert den Klassennamen direkt in den entsprechenden Index\n",
    "        label_index = class_names.index(labels[i])\n",
    "    elif isinstance(labels[i], np.ndarray):\n",
    "        # Wenn die Labels One-Hot-Encoded sind\n",
    "        label_index = np.argmax(labels[i])  # Konvertiert One-Hot-Encoded Labels in Index\n",
    "    else:\n",
    "        # Fallback für andere Fälle\n",
    "        label_index = labels[i]\n",
    "\n",
    "    plt.xlabel(class_names[label_index])\n",
    "plt.show()"
   ],
   "metadata": {
    "collapsed": false
   },
   "id": "1c417a1a33c5258e"
  },
  {
   "cell_type": "code",
   "execution_count": null,
   "id": "303bda57-4abe-4f5b-9f56-c7fb7eb6964c",
   "metadata": {},
   "outputs": [],
   "source": []
  },
  {
   "cell_type": "code",
   "execution_count": null,
   "id": "7864d633-ef33-4d3c-a28c-a25ce1fb93e6",
   "metadata": {},
   "outputs": [],
   "source": []
  },
  {
   "cell_type": "code",
   "execution_count": null,
   "id": "6e77893f-8530-4387-b505-34226aad3dd6",
   "metadata": {},
   "outputs": [],
   "source": []
  }
 ],
 "metadata": {
  "kernelspec": {
   "display_name": "Python 3 (ipykernel)",
   "language": "python",
   "name": "python3"
  },
  "language_info": {
   "codemirror_mode": {
    "name": "ipython",
    "version": 3
   },
   "file_extension": ".py",
   "mimetype": "text/x-python",
   "name": "python",
   "nbconvert_exporter": "python",
   "pygments_lexer": "ipython3",
   "version": "3.12.2"
  }
 },
 "nbformat": 4,
 "nbformat_minor": 5
}
