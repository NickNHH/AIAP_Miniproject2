{
 "cells": [
  {
   "cell_type": "code",
   "outputs": [],
   "source": [
    "import tensorflow as tf\n",
    "\n",
    "from tensorflow.keras import datasets, layers, models\n",
    "from tensorflow.keras.preprocessing.image import ImageDataGenerator\n",
    "import matplotlib.pyplot as plt"
   ],
   "metadata": {
    "collapsed": false
   },
   "id": "7f6650c6d51b64f1"
  },
  {
   "cell_type": "code",
   "outputs": [],
   "source": [
    "# Pfad zum Ordner mit den Bildern\n",
    "data_dir = 'files/dataset'\n",
    "\n",
    "# Initialisiere den ImageDataGenerator\n",
    "datagen = ImageDataGenerator(\n",
    "    rescale=1./255,  # Normalisiere die Pixelwerte zwischen 0 und 1\n",
    "    validation_split=0.3  # Optionale Aufteilung in Trainings- und Validierungsdaten\n",
    ")\n",
    "\n",
    "# Erstelle Datensätze für Training und Validierung/Test\n",
    "train_generator = datagen.flow_from_directory(\n",
    "    data_dir,\n",
    "    target_size=(64, 64),  # Die Zielgröße der Bilder (angepasst an CIFAR-10)\n",
    "    batch_size=32,\n",
    "    class_mode='binary',  # oder 'categorical' für mehr als zwei Klassen\n",
    "    subset='training'  # Für den Trainingsdatensatz\n",
    ")\n",
    "\n",
    "validation_generator = datagen.flow_from_directory(\n",
    "    data_dir,\n",
    "    target_size=(64, 64),\n",
    "    batch_size=32,\n",
    "    class_mode='binary',\n",
    "    subset='validation'  # Für den Validierungs-/Testdatensatz\n",
    ")"
   ],
   "metadata": {
    "collapsed": false
   },
   "id": "359c5aefaeee6efa"
  },
  {
   "cell_type": "code",
   "outputs": [],
   "source": [
    "class_names = ['altar', 'apse', 'bell_tower', 'column', 'dome(inner)',\n",
    "               'dome(outer)', 'flying_buttress', 'gargoyle', 'stained_glass', 'vault']\n",
    "\n",
    "plt.figure(figsize=(10,10))\n",
    "\n",
    "# Nur einen Batch von Bildern und Labels holen\n",
    "images, labels = next(train_generator)\n",
    "\n",
    "for i in range(25):  # Angenommen, der Batch hat mindestens 25 Bilder\n",
    "    plt.subplot(5, 5, i+1)\n",
    "    plt.xticks([])\n",
    "    plt.yticks([])\n",
    "    plt.grid(False)\n",
    "    plt.imshow(images[i])\n",
    "\n",
    "    # Sicherstellen, dass label_index als ein Integer behandelt wird\n",
    "    label_index = labels[i].astype(int)  # Konvertiere explizit zu int\n",
    "    if label_index.shape != ():  # Wenn die Labels One-Hot-Encoded sind\n",
    "        label_index = np.argmax(label_index)  # Konvertiere One-Hot zu Index\n",
    "    plt.xlabel(class_names[label_index])\n",
    "plt.show()"
   ],
   "metadata": {
    "collapsed": false
   },
   "id": "de83f68ac27e37e8"
  },
  {
   "cell_type": "code",
   "outputs": [],
   "source": [],
   "metadata": {
    "collapsed": false
   },
   "id": "a9e09319e87d9f62"
  },
  {
   "cell_type": "code",
   "outputs": [],
   "source": [],
   "metadata": {
    "collapsed": false
   },
   "id": "fcb4acf4b81a47f"
  },
  {
   "cell_type": "code",
   "outputs": [],
   "source": [],
   "metadata": {
    "collapsed": false
   },
   "id": "2ce952fefa051666"
  }
 ],
 "metadata": {
  "kernelspec": {
   "display_name": "Python 3 (ipykernel)",
   "language": "python",
   "name": "python3"
  },
  "language_info": {
   "codemirror_mode": {
    "name": "ipython",
    "version": 3
   },
   "file_extension": ".py",
   "mimetype": "text/x-python",
   "name": "python",
   "nbconvert_exporter": "python",
   "pygments_lexer": "ipython3",
   "version": "3.7.12"
  }
 },
 "nbformat": 4,
 "nbformat_minor": 5
}
