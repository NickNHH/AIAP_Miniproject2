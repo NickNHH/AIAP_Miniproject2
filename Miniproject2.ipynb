{
 "cells": [
  {
   "cell_type": "code",
   "execution_count": 2,
   "id": "ba17047b-8c5c-4806-a46b-05d7bfc30471",
   "metadata": {},
   "outputs": [
    {
     "ename": "SyntaxError",
     "evalue": "invalid syntax (864731915.py, line 1)",
     "output_type": "error",
     "traceback": [
      "\u001b[1;36m  File \u001b[1;32m\"C:\\Users\\tobia\\AppData\\Local\\Temp\\ipykernel_17404\\864731915.py\"\u001b[1;36m, line \u001b[1;32m1\u001b[0m\n\u001b[1;33m    First Commit\u001b[0m\n\u001b[1;37m               ^\u001b[0m\n\u001b[1;31mSyntaxError\u001b[0m\u001b[1;31m:\u001b[0m invalid syntax\n"
     ]
    }
   ],
   "source": [
    "First Commit"
   ]
  },
  {
   "cell_type": "code",
   "execution_count": null,
   "id": "3b1a7762",
   "metadata": {},
   "outputs": [],
   "source": [
    "Second"
   ]
  }
 ],
 "metadata": {
  "kernelspec": {
   "display_name": "Python 3 (ipykernel)",
   "language": "python",
   "name": "python3"
  },
  "language_info": {
   "codemirror_mode": {
    "name": "ipython",
    "version": 3
   },
   "file_extension": ".py",
   "mimetype": "text/x-python",
   "name": "python",
   "nbconvert_exporter": "python",
   "pygments_lexer": "ipython3",
   "version": "3.7.12"
  }
 },
 "nbformat": 4,
 "nbformat_minor": 5
}
